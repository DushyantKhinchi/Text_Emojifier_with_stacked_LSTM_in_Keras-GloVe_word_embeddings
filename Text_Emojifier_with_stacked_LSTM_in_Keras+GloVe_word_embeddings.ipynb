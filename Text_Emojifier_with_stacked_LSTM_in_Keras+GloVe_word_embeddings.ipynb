{
  "nbformat": 4,
  "nbformat_minor": 0,
  "metadata": {
    "coursera": {
      "course_slug": "nlp-sequence-models",
      "graded_item_id": "RNnEs",
      "launcher_item_id": "acNYU"
    },
    "kernelspec": {
      "display_name": "Python 3",
      "language": "python",
      "name": "python3"
    },
    "language_info": {
      "codemirror_mode": {
        "name": "ipython",
        "version": 3
      },
      "file_extension": ".py",
      "mimetype": "text/x-python",
      "name": "python",
      "nbconvert_exporter": "python",
      "pygments_lexer": "ipython3",
      "version": "3.6.0"
    },
    "colab": {
      "name": "Text_Emojifier_with_stacked_LSTM_in_Keras+GloVe_word_embeddings.ipynb",
      "provenance": [],
      "include_colab_link": true
    }
  },
  "cells": [
    {
      "cell_type": "markdown",
      "metadata": {
        "id": "view-in-github",
        "colab_type": "text"
      },
      "source": [
        "<a href=\"https://colab.research.google.com/github/DushyantKhinchi/Text_Emojifier_with_stacked_LSTM_in_Keras-GloVe_word_embeddings/blob/master/Text_Emojifier_with_stacked_LSTM_in_Keras%2BGloVe_word_embeddings.ipynb\" target=\"_parent\"><img src=\"https://colab.research.google.com/assets/colab-badge.svg\" alt=\"Open In Colab\"/></a>"
      ]
    },
    {
      "cell_type": "markdown",
      "metadata": {
        "id": "h14A8EGPyJmJ",
        "colab_type": "text"
      },
      "source": [
        "\n",
        "\n",
        "First, we'll start with a baseline model (Emojifier-V1) using word embeddings.\n",
        "Second, we'll build a more sophisticated model (Emojifier-V2) that further incorporates an LSTM. "
      ]
    },
    {
      "cell_type": "code",
      "metadata": {
        "id": "wBpZN7vJyJmM",
        "colab_type": "code",
        "colab": {}
      },
      "source": [
        "import numpy as np\n",
        "from emo_utils import *\n",
        "import emoji\n",
        "import matplotlib.pyplot as plt\n",
        "\n",
        "%matplotlib inline"
      ],
      "execution_count": null,
      "outputs": []
    },
    {
      "cell_type": "markdown",
      "metadata": {
        "id": "6bmcDFQyyJmS",
        "colab_type": "text"
      },
      "source": [
        "##Baseline model: Emojifier-V1\n",
        "\n",
        " dataset (X, Y) where:\n",
        "X contains 127 sentences (strings).\n",
        "Y contains an integer label between 0 and 4 corresponding to an emoji for each sentence.\n",
        "\n",
        "\n",
        "Let's load the dataset using the code below. We split the dataset between training (127 examples) and testing (56 examples)."
      ]
    },
    {
      "cell_type": "code",
      "metadata": {
        "id": "Q-6kDOICyJmT",
        "colab_type": "code",
        "colab": {}
      },
      "source": [
        "X_train, Y_train = read_csv('data/train_emoji.csv')\n",
        "X_test, Y_test = read_csv('data/tesss.csv')"
      ],
      "execution_count": null,
      "outputs": []
    },
    {
      "cell_type": "code",
      "metadata": {
        "id": "034v60H8yJmW",
        "colab_type": "code",
        "colab": {}
      },
      "source": [
        "maxLen = len(max(X_train, key=len).split())"
      ],
      "execution_count": null,
      "outputs": []
    },
    {
      "cell_type": "markdown",
      "metadata": {
        "id": "JO9u0-EtyJmZ",
        "colab_type": "text"
      },
      "source": [
        "Run the following cell to print sentences from X_train and corresponding labels from Y_train. \n",
        "* Change `idx` to see different examples. "
      ]
    },
    {
      "cell_type": "code",
      "metadata": {
        "id": "eYUCUWQSyJma",
        "colab_type": "code",
        "colab": {},
        "outputId": "68395487-1a5e-4e81-e881-7b627e468b9a"
      },
      "source": [
        "for idx in range(10):\n",
        "    print(X_train[idx], label_to_emoji(Y_train[idx]))"
      ],
      "execution_count": null,
      "outputs": [
        {
          "output_type": "stream",
          "text": [
            "never talk to me again 😞\n",
            "I am proud of your achievements 😄\n",
            "It is the worst day in my life 😞\n",
            "Miss you so much ❤️\n",
            "food is life 🍴\n",
            "I love you mum ❤️\n",
            "Stop saying bullshit 😞\n",
            "congratulations on your acceptance 😄\n",
            "The assignment is too long  😞\n",
            "I want to go play ⚾\n"
          ],
          "name": "stdout"
        }
      ]
    },
    {
      "cell_type": "markdown",
      "metadata": {
        "id": "u3nUmFRFyJme",
        "colab_type": "text"
      },
      "source": [
        "Overview of the Emojifier-V1\n",
        "\n",
        "In this part, we are going to implement a baseline model called \"Emojifier-v1\".  \n",
        "\n",
        "Inputs and outputs\n",
        "* The input of the model is a string corresponding to a sentence (e.g. \"I love you). \n",
        "* The output will be a probability vector of shape (1,5), (there are 5 emojis to choose from).\n",
        "* The (1,5) probability vector is passed to an argmax layer, which extracts the index of the emoji with the highest probability."
      ]
    },
    {
      "cell_type": "markdown",
      "metadata": {
        "id": "9gKkxfugyJmf",
        "colab_type": "text"
      },
      "source": [
        "One-hot encoding\n",
        "* To get our labels into a format suitable for training a softmax classifier, lets convert $Y$ from its current shape  $(m, 1)$ into a \"one-hot representation\" $(m, 5)$, \n",
        "    * Each row is a one-hot vector giving the label of one example.\n",
        "    * Here, `Y_oh` stands for \"Y-one-hot\" in the variable names `Y_oh_train` and `Y_oh_test`: "
      ]
    },
    {
      "cell_type": "code",
      "metadata": {
        "id": "8W9-nT8TyJmf",
        "colab_type": "code",
        "colab": {}
      },
      "source": [
        "Y_oh_train = convert_to_one_hot(Y_train, C = 5)\n",
        "Y_oh_test = convert_to_one_hot(Y_test, C = 5)"
      ],
      "execution_count": null,
      "outputs": []
    },
    {
      "cell_type": "markdown",
      "metadata": {
        "id": "9wL7ch2myJmj",
        "colab_type": "text"
      },
      "source": [
        ""
      ]
    },
    {
      "cell_type": "code",
      "metadata": {
        "id": "G7qdqSI7yJmk",
        "colab_type": "code",
        "colab": {},
        "outputId": "8ce545ea-b768-41d2-a617-6477013d0cf4"
      },
      "source": [
        "idx = 0\n",
        "print(f\"Sentence '{X_train[0]}' has label index {Y_train[idx]}, which is emoji {label_to_emoji(Y_train[idx])}\", )\n",
        "print(f\"Label index {Y_train[idx]} in one-hot encoding format is {Y_oh_train[idx]}\")"
      ],
      "execution_count": null,
      "outputs": [
        {
          "output_type": "stream",
          "text": [
            "Sentence 'never talk to me again' has label index 3, which is emoji 😞\n",
            "Label index 3 in one-hot encoding format is [ 0.  0.  0.  1.  0.]\n"
          ],
          "name": "stdout"
        }
      ]
    },
    {
      "cell_type": "markdown",
      "metadata": {
        "id": "9SgfhwptyJmp",
        "colab_type": "text"
      },
      "source": [
        "Implementing Emojifier-V1\n",
        "\n",
        "the first step is to:\n",
        "* Convert each word in the input sentence into their word vector representations.\n",
        "* Then take an average of the word vectors. \n",
        "* we will use pre-trained 50-dimensional GloVe embeddings. "
      ]
    },
    {
      "cell_type": "code",
      "metadata": {
        "id": "l1pBOoCyyJmp",
        "colab_type": "code",
        "colab": {}
      },
      "source": [
        "#load the `word_to_vec_map`, which contains all the vector representations.\n",
        "\n",
        "word_to_index, index_to_word, word_to_vec_map = read_glove_vecs('../../readonly/glove.6B.50d.txt')"
      ],
      "execution_count": null,
      "outputs": []
    },
    {
      "cell_type": "markdown",
      "metadata": {
        "id": "Gk2NzkioyJmx",
        "colab_type": "text"
      },
      "source": [
        "\n",
        "**word_to_index**: dictionary mapping from words to their indices in the vocabulary \n",
        "    - (400,001 words, with the valid indices ranging from 0 to 400,000)\n",
        "\n",
        "**index_to_word**: dictionary mapping from indices to their corresponding words in the vocabulary\n",
        "\n",
        "**word_to_vec_map**: dictionary mapping words to their GloVe vector representation.\n"
      ]
    },
    {
      "cell_type": "code",
      "metadata": {
        "id": "J_1NAOrXyJmy",
        "colab_type": "code",
        "colab": {},
        "outputId": "bf3f9a0c-c5b4-4661-da66-82fa1b43b847"
      },
      "source": [
        "word = \"cucumber\"\n",
        "idx = 289846\n",
        "print(\"the index of\", word, \"in the vocabulary is\", word_to_index[word])\n",
        "print(\"the\", str(idx) + \"th word in the vocabulary is\", index_to_word[idx])"
      ],
      "execution_count": null,
      "outputs": [
        {
          "output_type": "stream",
          "text": [
            "the index of cucumber in the vocabulary is 113317\n",
            "the 289846th word in the vocabulary is potatos\n"
          ],
          "name": "stdout"
        }
      ]
    },
    {
      "cell_type": "markdown",
      "metadata": {
        "id": "sX0GKkj3yJm1",
        "colab_type": "text"
      },
      "source": [
        "Implement `sentence_to_avg()`\n",
        "\n",
        "1. Convert every sentence to lower-case, then split the sentence into a list of words. \n",
        "    * `X.lower()` and `X.split()` might be useful. \n",
        "2. For each word in the sentence, access its GloVe representation.\n",
        "    * Then take the average of all of these word vectors.\n",
        "    * You might use `numpy.zeros()`.\n",
        "    "
      ]
    },
    {
      "cell_type": "code",
      "metadata": {
        "id": "01FhZzNuyJm2",
        "colab_type": "code",
        "colab": {},
        "outputId": "a8eca9b1-815c-43ca-9415-8bae44d85aeb"
      },
      "source": [
        "np.zeros(word_to_vec_map[\"cat\"].shape[0])"
      ],
      "execution_count": null,
      "outputs": [
        {
          "output_type": "execute_result",
          "data": {
            "text/plain": [
              "array([ 0.,  0.,  0.,  0.,  0.,  0.,  0.,  0.,  0.,  0.,  0.,  0.,  0.,\n",
              "        0.,  0.,  0.,  0.,  0.,  0.,  0.,  0.,  0.,  0.,  0.,  0.,  0.,\n",
              "        0.,  0.,  0.,  0.,  0.,  0.,  0.,  0.,  0.,  0.,  0.,  0.,  0.,\n",
              "        0.,  0.,  0.,  0.,  0.,  0.,  0.,  0.,  0.,  0.,  0.])"
            ]
          },
          "metadata": {
            "tags": []
          },
          "execution_count": 9
        }
      ]
    },
    {
      "cell_type": "code",
      "metadata": {
        "id": "Z2WMmv1SyJm5",
        "colab_type": "code",
        "colab": {}
      },
      "source": [
        "def sentence_to_avg(sentence, word_to_vec_map):\n",
        "    \"\"\"\n",
        "    Converts a sentence (string) into a list of words (strings). Extracts the GloVe representation of each word\n",
        "    and averages its value into a single vector encoding the meaning of the sentence.\n",
        "    \n",
        "    Arguments:\n",
        "    sentence -- string, one training example from X\n",
        "    word_to_vec_map -- dictionary mapping every word in a vocabulary into its 50-dimensional vector representation\n",
        "    \n",
        "    Returns:\n",
        "    avg -- average vector encoding information about the sentence, numpy-array of shape (50,)\n",
        "    \"\"\"\n",
        "    \n",
        "    ### START CODE HERE ###\n",
        "    # Step 1: Split sentence into list of lower case words (≈ 1 line)\n",
        "    words = sentence.lower().split()\n",
        "\n",
        "    # Initialize the average word vector, should have the same shape as your word vectors.\n",
        "    avg = np.zeros(50)\n",
        "    \n",
        "    # Step 2: average the word vectors. You can loop over the words in the list \"words\".\n",
        "    total = 0\n",
        "    for w in words:\n",
        "        total += word_to_vec_map[w]\n",
        "    avg = total/len(words)\n",
        "    \n",
        "    ### END CODE HERE ###\n",
        "    \n",
        "    return avg"
      ],
      "execution_count": null,
      "outputs": []
    },
    {
      "cell_type": "code",
      "metadata": {
        "scrolled": true,
        "id": "O2boyhQUyJm7",
        "colab_type": "code",
        "colab": {},
        "outputId": "afe7808b-3751-451a-d36a-7e484aa76c9a"
      },
      "source": [
        "avg = sentence_to_avg(\"Morrocan couscous is my favorite dish\", word_to_vec_map)\n",
        "print(\"avg = \\n\", avg)"
      ],
      "execution_count": null,
      "outputs": [
        {
          "output_type": "stream",
          "text": [
            "avg = \n",
            " [-0.008005    0.56370833 -0.50427333  0.258865    0.55131103  0.03104983\n",
            " -0.21013718  0.16893933 -0.09590267  0.141784   -0.15708967  0.18525867\n",
            "  0.6495785   0.38371117  0.21102167  0.11301667  0.02613967  0.26037767\n",
            "  0.05820667 -0.01578167 -0.12078833 -0.02471267  0.4128455   0.5152061\n",
            "  0.38756167 -0.898661   -0.535145    0.33501167  0.68806933 -0.2156265\n",
            "  1.797155    0.10476933 -0.36775333  0.750785    0.10282583  0.348925\n",
            " -0.27262833  0.66768    -0.10706167 -0.283635    0.59580117  0.28747333\n",
            " -0.3366635   0.23393817  0.34349183  0.178405    0.1166155  -0.076433\n",
            "  0.1445417   0.09808667]\n"
          ],
          "name": "stdout"
        }
      ]
    },
    {
      "cell_type": "markdown",
      "metadata": {
        "id": "X5gIzGvryJm-",
        "colab_type": "text"
      },
      "source": [
        "**Expected Output**:\n",
        "\n",
        "```Python\n",
        "avg =\n",
        "[-0.008005    0.56370833 -0.50427333  0.258865    0.55131103  0.03104983\n",
        " -0.21013718  0.16893933 -0.09590267  0.141784   -0.15708967  0.18525867\n",
        "  0.6495785   0.38371117  0.21102167  0.11301667  0.02613967  0.26037767\n",
        "  0.05820667 -0.01578167 -0.12078833 -0.02471267  0.4128455   0.5152061\n",
        "  0.38756167 -0.898661   -0.535145    0.33501167  0.68806933 -0.2156265\n",
        "  1.797155    0.10476933 -0.36775333  0.750785    0.10282583  0.348925\n",
        " -0.27262833  0.66768    -0.10706167 -0.283635    0.59580117  0.28747333\n",
        " -0.3366635   0.23393817  0.34349183  0.178405    0.1166155  -0.076433\n",
        "  0.1445417   0.09808667]\n",
        "```"
      ]
    },
    {
      "cell_type": "markdown",
      "metadata": {
        "id": "JAhMSwwEyJm_",
        "colab_type": "text"
      },
      "source": [
        "#### Model\n",
        "\n",
        "* Pass the average through forward propagation\n",
        "* Compute the cost\n",
        "* Backpropagate to update the softmax parameters\n",
        "\n",
        "\n",
        "* The equations used to implement the forward pass and to compute the cross-entropy cost are:\n",
        "* The variable $Y_{oh}$ (\"Y one hot\") is the one-hot encoding of the output labels. \n",
        "\n",
        "$$ z^{(i)} = W . avg^{(i)} + b$$\n",
        "\n",
        "$$ a^{(i)} = softmax(z^{(i)})$$\n",
        "\n",
        "$$ \\mathcal{L}^{(i)} = - \\sum_{k = 0}^{n_y - 1} Y_{oh,k}^{(i)} * log(a^{(i)}_k)$$\n",
        "\n",
        "\n",
        "Use imported function `softmax()`"
      ]
    },
    {
      "cell_type": "code",
      "metadata": {
        "id": "k3Ikgd3HyJm_",
        "colab_type": "code",
        "colab": {}
      },
      "source": [
        "def model(X, Y, word_to_vec_map, learning_rate = 0.01, num_iterations = 400):\n",
        "    \"\"\"\n",
        "    Model to train word vector representations in numpy.\n",
        "    \n",
        "    Arguments:\n",
        "    X -- input data, numpy array of sentences as strings, of shape (m, 1)\n",
        "    Y -- labels, numpy array of integers between 0 and 7, numpy-array of shape (m, 1)\n",
        "    word_to_vec_map -- dictionary mapping every word in a vocabulary into its 50-dimensional vector representation\n",
        "    learning_rate -- learning_rate for the stochastic gradient descent algorithm\n",
        "    num_iterations -- number of iterations\n",
        "    \n",
        "    Returns:\n",
        "    pred -- vector of predictions, numpy-array of shape (m, 1)\n",
        "    W -- weight matrix of the softmax layer, of shape (n_y, n_h)\n",
        "    b -- bias of the softmax layer, of shape (n_y,)\n",
        "    \"\"\"\n",
        "    \n",
        "    np.random.seed(1)\n",
        "\n",
        "    # Define number of training examples\n",
        "    m = Y.shape[0]                          # number of training examples\n",
        "    n_y = 5                                 # number of classes  \n",
        "    n_h = 50                                # dimensions of the GloVe vectors \n",
        "    \n",
        "    # Initialize parameters using Xavier initialization\n",
        "    W = np.random.randn(n_y, n_h) / np.sqrt(n_h)\n",
        "    b = np.zeros((n_y,))\n",
        "    \n",
        "    # Convert Y to Y_onehot with n_y classes\n",
        "    Y_oh = convert_to_one_hot(Y, C = n_y) \n",
        "    \n",
        "    # Optimization loop\n",
        "    for t in range(num_iterations): # Loop over the number of iterations\n",
        "        for i in range(m):          # Loop over the training examples\n",
        "            \n",
        "            ### START CODE HERE ### (≈ 4 lines of code)\n",
        "            # Average the word vectors of the words from the i'th training example\n",
        "            avg = sentence_to_avg(X[i],word_to_vec_map)\n",
        "\n",
        "            # Forward propagate the avg through the softmax layer\n",
        "            z = np.dot(W,avg)+b\n",
        "            a = softmax(z)\n",
        "\n",
        "            # Compute cost using the i'th training label's one hot representation and \"A\" (the output of the softmax)\n",
        "            cost = -np.sum(Y_oh[i] * np.log(a))\n",
        "            ### END CODE HERE ###\n",
        "            \n",
        "            # Compute gradients \n",
        "            dz = a - Y_oh[i]\n",
        "            dW = np.dot(dz.reshape(n_y,1), avg.reshape(1, n_h))\n",
        "            db = dz\n",
        "\n",
        "            # Update parameters with Stochastic Gradient Descent\n",
        "            W = W - learning_rate * dW\n",
        "            b = b - learning_rate * db\n",
        "        \n",
        "        if t % 100 == 0:\n",
        "            print(\"Epoch: \" + str(t) + \" --- cost = \" + str(cost))\n",
        "            pred = predict(X, Y, W, b, word_to_vec_map) #predict is defined in emo_utils.py\n",
        "\n",
        "    return pred, W, b"
      ],
      "execution_count": null,
      "outputs": []
    },
    {
      "cell_type": "code",
      "metadata": {
        "id": "sSeV0jq8yJnE",
        "colab_type": "code",
        "colab": {},
        "outputId": "6c611282-06a7-4643-e252-e6316505bdcd"
      },
      "source": [
        "print(X_train.shape)\n",
        "print(Y_train.shape)\n",
        "print(np.eye(5)[Y_train.reshape(-1)].shape)\n",
        "print(X_train[0])\n",
        "print(type(X_train))\n",
        "Y = np.asarray([5,0,0,5, 4, 4, 4, 6, 6, 4, 1, 1, 5, 6, 6, 3, 6, 3, 4, 4])\n",
        "print(Y.shape)\n",
        "\n",
        "X = np.asarray(['I am going to the bar tonight', 'I love you', 'miss you my dear',\n",
        " 'Lets go party and drinks','Congrats on the new job','Congratulations',\n",
        " 'I am so happy for you', 'Why are you feeling bad', 'What is wrong with you',\n",
        " 'You totally deserve this prize', 'Let us go play football',\n",
        " 'Are you down for football this afternoon', 'Work hard play harder',\n",
        " 'It is suprising how people can be dumb sometimes',\n",
        " 'I am very disappointed','It is the best day in my life',\n",
        " 'I think I will end up alone','My life is so boring','Good job',\n",
        " 'Great so awesome'])\n",
        "\n",
        "print(X.shape)\n",
        "print(np.eye(5)[Y_train.reshape(-1)].shape)\n",
        "print(type(X_train))\n"
      ],
      "execution_count": null,
      "outputs": [
        {
          "output_type": "stream",
          "text": [
            "(132,)\n",
            "(132,)\n",
            "(132, 5)\n",
            "never talk to me again\n",
            "<class 'numpy.ndarray'>\n",
            "(20,)\n",
            "(20,)\n",
            "(132, 5)\n",
            "<class 'numpy.ndarray'>\n"
          ],
          "name": "stdout"
        }
      ]
    },
    {
      "cell_type": "code",
      "metadata": {
        "scrolled": true,
        "id": "1wyJnSoKyJnI",
        "colab_type": "code",
        "colab": {},
        "outputId": "9bfe4355-6425-42dd-8f2b-e056fcade5f2"
      },
      "source": [
        "#learn the softmax parameters (W,b)\n",
        "\n",
        "pred, W, b = model(X_train, Y_train, word_to_vec_map)\n",
        "print(pred)"
      ],
      "execution_count": null,
      "outputs": [
        {
          "output_type": "stream",
          "text": [
            "Epoch: 0 --- cost = 1.95204988128\n",
            "Accuracy: 0.348484848485\n",
            "Epoch: 100 --- cost = 0.0797181872601\n",
            "Accuracy: 0.931818181818\n",
            "Epoch: 200 --- cost = 0.0445636924368\n",
            "Accuracy: 0.954545454545\n",
            "Epoch: 300 --- cost = 0.0343226737879\n",
            "Accuracy: 0.969696969697\n",
            "[[ 3.]\n",
            " [ 2.]\n",
            " [ 3.]\n",
            " [ 0.]\n",
            " [ 4.]\n",
            " [ 0.]\n",
            " [ 3.]\n",
            " [ 2.]\n",
            " [ 3.]\n",
            " [ 1.]\n",
            " [ 3.]\n",
            " [ 3.]\n",
            " [ 1.]\n",
            " [ 3.]\n",
            " [ 2.]\n",
            " [ 3.]\n",
            " [ 2.]\n",
            " [ 3.]\n",
            " [ 1.]\n",
            " [ 2.]\n",
            " [ 3.]\n",
            " [ 0.]\n",
            " [ 2.]\n",
            " [ 2.]\n",
            " [ 2.]\n",
            " [ 1.]\n",
            " [ 4.]\n",
            " [ 3.]\n",
            " [ 3.]\n",
            " [ 4.]\n",
            " [ 0.]\n",
            " [ 3.]\n",
            " [ 4.]\n",
            " [ 2.]\n",
            " [ 0.]\n",
            " [ 3.]\n",
            " [ 2.]\n",
            " [ 2.]\n",
            " [ 3.]\n",
            " [ 4.]\n",
            " [ 2.]\n",
            " [ 2.]\n",
            " [ 0.]\n",
            " [ 2.]\n",
            " [ 3.]\n",
            " [ 0.]\n",
            " [ 3.]\n",
            " [ 2.]\n",
            " [ 4.]\n",
            " [ 3.]\n",
            " [ 0.]\n",
            " [ 3.]\n",
            " [ 3.]\n",
            " [ 3.]\n",
            " [ 4.]\n",
            " [ 2.]\n",
            " [ 1.]\n",
            " [ 1.]\n",
            " [ 1.]\n",
            " [ 2.]\n",
            " [ 3.]\n",
            " [ 1.]\n",
            " [ 0.]\n",
            " [ 0.]\n",
            " [ 0.]\n",
            " [ 3.]\n",
            " [ 4.]\n",
            " [ 4.]\n",
            " [ 2.]\n",
            " [ 2.]\n",
            " [ 1.]\n",
            " [ 2.]\n",
            " [ 0.]\n",
            " [ 3.]\n",
            " [ 2.]\n",
            " [ 2.]\n",
            " [ 0.]\n",
            " [ 3.]\n",
            " [ 3.]\n",
            " [ 1.]\n",
            " [ 2.]\n",
            " [ 1.]\n",
            " [ 2.]\n",
            " [ 2.]\n",
            " [ 4.]\n",
            " [ 3.]\n",
            " [ 3.]\n",
            " [ 2.]\n",
            " [ 4.]\n",
            " [ 0.]\n",
            " [ 0.]\n",
            " [ 3.]\n",
            " [ 3.]\n",
            " [ 3.]\n",
            " [ 3.]\n",
            " [ 2.]\n",
            " [ 0.]\n",
            " [ 1.]\n",
            " [ 2.]\n",
            " [ 3.]\n",
            " [ 0.]\n",
            " [ 2.]\n",
            " [ 2.]\n",
            " [ 2.]\n",
            " [ 3.]\n",
            " [ 2.]\n",
            " [ 2.]\n",
            " [ 2.]\n",
            " [ 4.]\n",
            " [ 1.]\n",
            " [ 1.]\n",
            " [ 3.]\n",
            " [ 3.]\n",
            " [ 4.]\n",
            " [ 1.]\n",
            " [ 2.]\n",
            " [ 1.]\n",
            " [ 1.]\n",
            " [ 3.]\n",
            " [ 1.]\n",
            " [ 0.]\n",
            " [ 4.]\n",
            " [ 0.]\n",
            " [ 3.]\n",
            " [ 3.]\n",
            " [ 4.]\n",
            " [ 4.]\n",
            " [ 1.]\n",
            " [ 4.]\n",
            " [ 3.]\n",
            " [ 0.]\n",
            " [ 2.]]\n"
          ],
          "name": "stdout"
        }
      ]
    },
    {
      "cell_type": "markdown",
      "metadata": {
        "id": "xSOrcxAFyJnO",
        "colab_type": "text"
      },
      "source": [
        "### 1.4 - Examining test set performance \n",
        "\n",
        "* `predict` function used here is defined in emo_util.py."
      ]
    },
    {
      "cell_type": "code",
      "metadata": {
        "scrolled": false,
        "id": "7pNCgQg8yJnP",
        "colab_type": "code",
        "colab": {},
        "outputId": "ba5a6f18-dd37-4761-b16c-46218b6832f8"
      },
      "source": [
        "print(\"Training set:\")\n",
        "pred_train = predict(X_train, Y_train, W, b, word_to_vec_map)\n",
        "print('Test set:')\n",
        "pred_test = predict(X_test, Y_test, W, b, word_to_vec_map)"
      ],
      "execution_count": null,
      "outputs": [
        {
          "output_type": "stream",
          "text": [
            "Training set:\n",
            "Accuracy: 0.977272727273\n",
            "Test set:\n",
            "Accuracy: 0.857142857143\n"
          ],
          "name": "stdout"
        }
      ]
    },
    {
      "cell_type": "markdown",
      "metadata": {
        "id": "5whW65sJyJnU",
        "colab_type": "text"
      },
      "source": [
        "* Random guessing would have had 20% accuracy given that there are 5 classes. (1/5 = 20%).\n",
        "\n",
        "The model matches emojis to relevant words\n",
        "\n",
        "In the training set, the algorithm saw the sentence \n",
        "\n",
        "\"*I love you*\"  with the label ❤️. \n",
        "\n",
        " the word \"adore\" does not appear in the training set. Nonetheless, lets see what happens if we write \"*I adore you*.\"\n",
        "\n"
      ]
    },
    {
      "cell_type": "code",
      "metadata": {
        "id": "8ZWUlSd3yJnV",
        "colab_type": "code",
        "colab": {},
        "outputId": "19440ce2-0155-4da5-a515-1ae450c7334d"
      },
      "source": [
        "X_my_sentences = np.array([\"i adore you\", \"i love you\", \"funny lol\", \"lets play with a ball\", \"food is ready\", \"not feeling happy\"])\n",
        "Y_my_labels = np.array([[0], [0], [2], [1], [4],[3]])\n",
        "\n",
        "pred = predict(X_my_sentences, Y_my_labels , W, b, word_to_vec_map)\n",
        "print_predictions(X_my_sentences, pred)"
      ],
      "execution_count": null,
      "outputs": [
        {
          "output_type": "stream",
          "text": [
            "Accuracy: 0.833333333333\n",
            "\n",
            "i adore you ❤️\n",
            "i love you ❤️\n",
            "funny lol 😄\n",
            "lets play with a ball ⚾\n",
            "food is ready 🍴\n",
            "not feeling happy 😄\n"
          ],
          "name": "stdout"
        }
      ]
    },
    {
      "cell_type": "markdown",
      "metadata": {
        "id": "U6Db0PNtyJnY",
        "colab_type": "text"
      },
      "source": [
        "Because *adore* has a similar embedding as *love*, the algorithm has generalized correctly even to a word it has never seen before. \n",
        " \n",
        "\n",
        " Word ordering isn't considered in this model\n",
        "the model doesn't get the following sentence correct: \"not feeling happy\" \n",
        "\n",
        "This algorithm ignores word ordering, so is not good at understanding phrases like \"not happy.\" "
      ]
    },
    {
      "cell_type": "code",
      "metadata": {
        "id": "stDfmCgRyJnZ",
        "colab_type": "code",
        "colab": {},
        "outputId": "7fdd1928-4827-4fb7-d513-f76811c4958c"
      },
      "source": [
        "#Confusion matrix\n",
        "#Printing the confusion matrix can help understand which classes are more difficult for the model. \n",
        "\n",
        "print(Y_test.shape)\n",
        "print('           '+ label_to_emoji(0)+ '    ' + label_to_emoji(1) + '    ' +  label_to_emoji(2)+ '    ' + label_to_emoji(3)+'   ' + label_to_emoji(4))\n",
        "print(pd.crosstab(Y_test, pred_test.reshape(56,), rownames=['Actual'], colnames=['Predicted'], margins=True))\n",
        "plot_confusion_matrix(Y_test, pred_test)"
      ],
      "execution_count": null,
      "outputs": [
        {
          "output_type": "stream",
          "text": [
            "(56,)\n",
            "           ❤️    ⚾    😄    😞   🍴\n",
            "Predicted  0.0  1.0  2.0  3.0  4.0  All\n",
            "Actual                                 \n",
            "0            6    0    0    1    0    7\n",
            "1            0    8    0    0    0    8\n",
            "2            2    0   16    0    0   18\n",
            "3            1    1    2   12    0   16\n",
            "4            0    0    1    0    6    7\n",
            "All          9    9   19   13    6   56\n"
          ],
          "name": "stdout"
        },
        {
          "output_type": "display_data",
          "data": {
            "image/png": "[encoded data removed]",
            "text/plain": [
              "<matplotlib.figure.Figure at 0x7f1819b1b048>"
            ]
          },
          "metadata": {
            "tags": []
          }
        }
      ]
    },
    {
      "cell_type": "markdown",
      "metadata": {
        "id": "bOACnQl1yJnd",
        "colab_type": "text"
      },
      "source": [
        "##Emojifier-V2: Using LSTMs in Keras: \n",
        "\n",
        "Let's build an LSTM model that takes word **sequences** as input!\n",
        "\n",
        "* This model will be able to account for the word ordering. \n",
        "* Emojifier-V2 will continue to use pre-trained word embeddings to represent words.\n",
        "* We will feed word embeddings into an LSTM.\n",
        "* The LSTM will learn to predict the most appropriate emoji. \n",
        "\n"
      ]
    },
    {
      "cell_type": "code",
      "metadata": {
        "id": "9n6ap_MpyJnd",
        "colab_type": "code",
        "colab": {},
        "outputId": "41cf3365-27b8-420b-f465-27a3fa1460b5"
      },
      "source": [
        "import numpy as np\n",
        "np.random.seed(0)\n",
        "from keras.models import Model\n",
        "from keras.layers import Dense, Input, Dropout, LSTM, Activation\n",
        "from keras.layers.embeddings import Embedding\n",
        "from keras.preprocessing import sequence\n",
        "from keras.initializers import glorot_uniform\n",
        "np.random.seed(1)"
      ],
      "execution_count": null,
      "outputs": [
        {
          "output_type": "stream",
          "text": [
            "Using TensorFlow backend.\n"
          ],
          "name": "stderr"
        }
      ]
    },
    {
      "cell_type": "markdown",
      "metadata": {
        "id": "BZzmaE4xyJnh",
        "colab_type": "text"
      },
      "source": [
        "**mini-batching** \n",
        "\n",
        "* we want to train Keras using mini-batches. \n",
        "* sequences in the same mini-batch must have the **same length**. \n",
        "* This is what allows vectorization to work: If you had a 3-word sentence and a 4-word sentence, then the computations needed for them are different (one takes 3 steps of an LSTM, one takes 4 steps) so it's just not possible to do them both at the same time.\n",
        "    \n",
        "Padding handles sequences of varying length\n",
        "* The common solution to handling sequences of **different length** is to use padding.\n",
        "* Set a maximum sequence length\n",
        "* Pad all sequences to have the same length. \n",
        "    \n",
        "Example of padding\n",
        "* Given a maximum sequence length of 20, we could pad every sentence with \"0\"s so that each input sentence is of length 20. \n",
        "* Thus, the sentence \"I love you\" would be represented as $(e_{I}, e_{love}, e_{you}, \\vec{0}, \\vec{0}, \\ldots, \\vec{0})$. \n",
        "* In this example, any sentences longer than 20 words would have to be truncated. \n",
        "* One way to choose the maximum sequence length is to just pick the length of the longest sentence in the training set. \n"
      ]
    },
    {
      "cell_type": "markdown",
      "metadata": {
        "id": "Yl9lod7IyJni",
        "colab_type": "text"
      },
      "source": [
        "The Embedding layer\n",
        "\n",
        "* The embedding matrix maps word indices to embedding vectors.\n",
        "    * The word indices are positive integers.\n",
        "    * The embedding vectors are dense vectors of fixed size.\n",
        "    * \"dense\", in this context means that most of the values are non-zero.  As a counter-example, a one-hot encoded vector is not \"dense.\"\n",
        "\n",
        "#### Using and updating pre-trained embeddings\n",
        "* We will initialize the Embedding layer with the GloVe 50-dimensional vectors. \n",
        "* Because our training set is quite small, we will leave the GloVe embeddings fixed instead of updating them.\n",
        "\n"
      ]
    },
    {
      "cell_type": "markdown",
      "metadata": {
        "id": "ajyC7QRzyJnj",
        "colab_type": "text"
      },
      "source": [
        "#### Inputs and outputs to the embedding layer\n",
        "\n",
        "* The `Embedding()` layer's input is an integer matrix of size **(batch size, max input length)**. \n",
        "    * This input corresponds to sentences converted into lists of indices (integers).\n",
        "    * The largest integer (the highest word index) in the input should be no larger than the vocabulary size.\n",
        "* The embedding layer outputs an array of shape (batch size, max input length, dimension of word vectors).\n"
      ]
    },
    {
      "cell_type": "markdown",
      "metadata": {
        "id": "yAEn9JZkyJnj",
        "colab_type": "text"
      },
      "source": [
        " Prepare the input sentences\n",
        "\n",
        "* Implement `sentences_to_indices`, which processes an array of sentences (X) and returns inputs to the embedding layer:\n",
        "    * Convert each training sentences into a list of indices (the indices correspond to each word in the sentence)\n",
        "    * Zero-pad all these lists so that their length is the length of the longest sentence."
      ]
    },
    {
      "cell_type": "code",
      "metadata": {
        "id": "XbPT2V0EyJnk",
        "colab_type": "code",
        "colab": {},
        "outputId": "38dbc731-e539-45ef-a37e-1ba8f4c5148d"
      },
      "source": [
        "for idx, val in enumerate([\"I\", \"like\", \"learning\"]):\n",
        "    print(idx,val)"
      ],
      "execution_count": null,
      "outputs": [
        {
          "output_type": "stream",
          "text": [
            "0 I\n",
            "1 like\n",
            "2 learning\n"
          ],
          "name": "stdout"
        }
      ]
    },
    {
      "cell_type": "code",
      "metadata": {
        "id": "y1R1PWR_yJno",
        "colab_type": "code",
        "colab": {}
      },
      "source": [
        "def sentences_to_indices(X, word_to_index, max_len):\n",
        "    \"\"\"\n",
        "    Converts an array of sentences (strings) into an array of indices corresponding to words in the sentences.\n",
        "    The output shape should be such that it can be given to `Embedding()` (described in Figure 4). \n",
        "    \n",
        "    Arguments:\n",
        "    X -- array of sentences (strings), of shape (m, 1)\n",
        "    word_to_index -- a dictionary containing the each word mapped to its index\n",
        "    max_len -- maximum number of words in a sentence. You can assume every sentence in X is no longer than this. \n",
        "    \n",
        "    Returns:\n",
        "    X_indices -- array of indices corresponding to words in the sentences from X, of shape (m, max_len)\n",
        "    \"\"\"\n",
        "    \n",
        "    m = X.shape[0]                                   # number of training examples\n",
        "    \n",
        "    ### START CODE HERE ###\n",
        "    # Initialize X_indices as a numpy matrix of zeros and the correct shape (≈ 1 line)\n",
        "    X_indices = np.zeros((m,max_len))\n",
        "    \n",
        "    for i in range(m):                               # loop over training examples\n",
        "        \n",
        "        # Convert the ith training sentence in lower case and split is into words. You should get a list of words.\n",
        "        sentence_words =X[i].lower().split()\n",
        "        \n",
        "        # Initialize j to 0\n",
        "        j = 0\n",
        "        \n",
        "        # Loop over the words of sentence_words\n",
        "        for w in sentence_words:\n",
        "            # Set the (i,j)th entry of X_indices to the index of the correct word.\n",
        "            X_indices[i, j] = word_to_index[w]\n",
        "            # Increment j to j + 1\n",
        "            j = j+1\n",
        "            \n",
        "    ### END CODE HERE ###\n",
        "    \n",
        "    return X_indices"
      ],
      "execution_count": null,
      "outputs": []
    },
    {
      "cell_type": "markdown",
      "metadata": {
        "id": "WJ0alsblyJns",
        "colab_type": "text"
      },
      "source": [
        "Run the following cell to check what `sentences_to_indices()` does, and check your results."
      ]
    },
    {
      "cell_type": "code",
      "metadata": {
        "id": "HuUYwt_MyJns",
        "colab_type": "code",
        "colab": {},
        "outputId": "fd39401d-fcb4-43d4-bba9-562b57c86d43"
      },
      "source": [
        "X1 = np.array([\"funny lol\", \"lets play baseball\", \"food is ready for you\"])\n",
        "X1_indices = sentences_to_indices(X1,word_to_index, max_len = 5)\n",
        "print(\"X1 =\", X1)\n",
        "print(\"X1_indices =\\n\", X1_indices)"
      ],
      "execution_count": null,
      "outputs": [
        {
          "output_type": "stream",
          "text": [
            "X1 = ['funny lol' 'lets play baseball' 'food is ready for you']\n",
            "X1_indices =\n",
            " [[ 155345.  225122.       0.       0.       0.]\n",
            " [ 220930.  286375.   69714.       0.       0.]\n",
            " [ 151204.  192973.  302254.  151349.  394475.]]\n"
          ],
          "name": "stdout"
        }
      ]
    },
    {
      "cell_type": "markdown",
      "metadata": {
        "id": "83wUamXByJnv",
        "colab_type": "text"
      },
      "source": [
        "**Expected Output**:\n",
        "\n",
        "```Python\n",
        "X1 = ['funny lol' 'lets play baseball' 'food is ready for you']\n",
        "X1_indices =\n",
        " [[ 155345.  225122.       0.       0.       0.]\n",
        " [ 220930.  286375.   69714.       0.       0.]\n",
        " [ 151204.  192973.  302254.  151349.  394475.]]\n",
        "```"
      ]
    },
    {
      "cell_type": "markdown",
      "metadata": {
        "id": "Ht1xLVTMyJnw",
        "colab_type": "text"
      },
      "source": [
        "#### Build embedding layer\n",
        " \n",
        "* The embedding layer takes as input a list of word indices.\n",
        "    * `sentences_to_indices()` creates these word indices.\n",
        "* The embedding layer will return the word embeddings for a sentence. \n",
        "\n",
        "Implement `pretrained_embedding_layer()` with these steps:\n",
        "1. Initialize the embedding matrix as a numpy array of zeros.\n",
        "    * The embedding matrix has a row for each unique word in the vocabulary.\n",
        "        * There is one additional row to handle \"unknown\" words.\n",
        "        * So vocab_len is the number of unique words plus one.\n",
        "    * Each row will store the vector representation of one word. \n",
        "        * For example, one row may be 50 positions long if using GloVe word vectors.\n",
        "    * In the code below, `emb_dim` represents the length of a word embedding.\n",
        "2. Fill in each row of the embedding matrix with the vector representation of a word\n",
        "    * Each word in `word_to_index` is a string.\n",
        "    * word_to_vec_map is a dictionary where the keys are strings and the values are the word vectors.\n",
        "3. Define the Keras embedding layer. \n",
        "    * The input dimension is equal to the vocabulary length (number of unique words plus one).\n",
        "    * The output dimension is equal to the number of positions in a word embedding.\n",
        "    * Make this layer's embeddings fixed.\n",
        "        * If you were to set `trainable = True`, then it will allow the optimization algorithm to modify the values of the word embeddings.\n",
        "        * In this case, we don't want the model to modify the word embeddings.\n",
        "4. Set the embedding weights to be equal to the embedding matrix.\n",
        "    "
      ]
    },
    {
      "cell_type": "code",
      "metadata": {
        "id": "vCUOBao6yJnx",
        "colab_type": "code",
        "colab": {}
      },
      "source": [
        "def pretrained_embedding_layer(word_to_vec_map, word_to_index):\n",
        "    \"\"\"\n",
        "    Creates a Keras Embedding() layer and loads in pre-trained GloVe 50-dimensional vectors.\n",
        "    \n",
        "    Arguments:\n",
        "    word_to_vec_map -- dictionary mapping words to their GloVe vector representation.\n",
        "    word_to_index -- dictionary mapping from words to their indices in the vocabulary (400,001 words)\n",
        "\n",
        "    Returns:\n",
        "    embedding_layer -- pretrained layer Keras instance\n",
        "    \"\"\"\n",
        "    \n",
        "    vocab_len = len(word_to_index) + 1                  # adding 1 to fit Keras embedding (requirement)\n",
        "    emb_dim = word_to_vec_map[\"cucumber\"].shape[0]      # define dimensionality of your GloVe word vectors (= 50)\n",
        "    \n",
        "    ### START CODE HERE ###\n",
        "    # Step 1\n",
        "    # Initialize the embedding matrix as a numpy array of zeros.\n",
        "    # See instructions above to choose the correct shape.\n",
        "    emb_matrix = np.zeros((vocab_len,50))\n",
        "    \n",
        "    # Step 2\n",
        "    # Set each row \"idx\" of the embedding matrix to be \n",
        "    # the word vector representation of the idx'th word of the vocabulary\n",
        "    for word, idx in word_to_index.items():\n",
        "        emb_matrix[idx, :] = word_to_vec_map[word]\n",
        "\n",
        "    # Step 3\n",
        "    # Define Keras embedding layer with the correct input and output sizes\n",
        "    # Make it non-trainable.\n",
        "    embedding_layer = Embedding(vocab_len, emb_dim, trainable=False)\n",
        "    ### END CODE HERE ###\n",
        "\n",
        "    # Step 4 (already done for you; please do not modify)\n",
        "    # Build the embedding layer, it is required before setting the weights of the embedding layer. \n",
        "    embedding_layer.build((None,)) # Do not modify the \"None\".  This line of code is complete as-is.\n",
        "    \n",
        "    # Set the weights of the embedding layer to the embedding matrix. Your layer is now pretrained.\n",
        "    embedding_layer.set_weights([emb_matrix])\n",
        "    \n",
        "    return embedding_layer"
      ],
      "execution_count": null,
      "outputs": []
    },
    {
      "cell_type": "code",
      "metadata": {
        "id": "Ts39Z4LxyJn0",
        "colab_type": "code",
        "colab": {},
        "outputId": "40fd86d4-a8b9-4447-cd98-dbe370055ef6"
      },
      "source": [
        "embedding_layer = pretrained_embedding_layer(word_to_vec_map, word_to_index)\n",
        "print(\"weights[0][1][3] =\", embedding_layer.get_weights()[0][1][3])"
      ],
      "execution_count": null,
      "outputs": [
        {
          "output_type": "stream",
          "text": [
            "weights[0][1][3] = -0.3403\n"
          ],
          "name": "stdout"
        }
      ]
    },
    {
      "cell_type": "markdown",
      "metadata": {
        "id": "Es-NHOQsyJn3",
        "colab_type": "text"
      },
      "source": [
        "Building the Emojifier-V2\n",
        "\n",
        "* feed the embedding layer's output to an LSTM network. \n",
        "\n",
        "Implement `Emojify_V2()`, which builds a Keras graph of the architecture. \n",
        "* The model takes as input an array of sentences of shape (`m`, `max_len`, ) defined by `input_shape`. \n",
        "* The model outputs a softmax probability vector of shape (`m`, `C = 5`). \n"
      ]
    },
    {
      "cell_type": "code",
      "metadata": {
        "id": "xJKvJScVyJn4",
        "colab_type": "code",
        "colab": {}
      },
      "source": [
        "def Emojify_V2(input_shape, word_to_vec_map, word_to_index):\n",
        "    \"\"\"\n",
        "    Function creating the Emojify-v2 model's graph.\n",
        "    \n",
        "    Arguments:\n",
        "    input_shape -- shape of the input, usually (max_len,)\n",
        "    word_to_vec_map -- dictionary mapping every word in a vocabulary into its 50-dimensional vector representation\n",
        "    word_to_index -- dictionary mapping from words to their indices in the vocabulary (400,001 words)\n",
        "\n",
        "    Returns:\n",
        "    model -- a model instance in Keras\n",
        "    \"\"\"\n",
        "    \n",
        "    ### START CODE HERE ###\n",
        "    # Define sentence_indices as the input of the graph.\n",
        "    # It should be of shape input_shape and dtype 'int32' (as it contains indices, which are integers).\n",
        "    sentence_indices = Input(shape=input_shape, dtype='int32')\n",
        "    \n",
        "    # Create the embedding layer pretrained with GloVe Vectors (≈1 line)\n",
        "    embedding_layer = pretrained_embedding_layer(word_to_vec_map, word_to_index) \n",
        "    \n",
        "    # Propagate sentence_indices through your embedding layer\n",
        "    # (See additional hints in the instructions).\n",
        "    embeddings =embedding_layer(sentence_indices)\n",
        "    \n",
        "    # Propagate the embeddings through an LSTM layer with 128-dimensional hidden state\n",
        "    # The returned output should be a batch of sequences.\n",
        "    X = LSTM(128, return_sequences=True)(embeddings)\n",
        "    # Add dropout with a probability of 0.5\n",
        "    X = Dropout(0.5)(X)\n",
        "    # Propagate X trough another LSTM layer with 128-dimensional hidden state\n",
        "    # The returned output should be a single hidden state, not a batch of sequences.\n",
        "    X = LSTM(128, return_sequences=False)(X)\n",
        "    # Add dropout with a probability of 0.5\n",
        "    X = Dropout(0.5)(X)\n",
        "    # Propagate X through a Dense layer with 5 units\n",
        "    X = Dense(5)(X)\n",
        "    # Add a softmax activation\n",
        "    X = Activation('softmax')(X)\n",
        "    \n",
        "    # Create Model instance which converts sentence_indices into X.\n",
        "    model = Model(inputs=sentence_indices, outputs=X)\n",
        "    \n",
        "    ### END CODE HERE ###\n",
        "    \n",
        "    return model"
      ],
      "execution_count": null,
      "outputs": []
    },
    {
      "cell_type": "markdown",
      "metadata": {
        "id": "RA-yFQNyyJn7",
        "colab_type": "text"
      },
      "source": [
        "Because all sentences in the dataset are less than 10 words, we chose `max_len = 10`. Architecture uses \"20,223,927\" parameters, of which 20,000,050 (the word embeddings) are non-trainable, and the remaining 223,877 are. Because our vocabulary size has 400,001 words (with valid indices from 0 to 400,000) there are 400,001\\*50 = 20,000,050 non-trainable parameters. "
      ]
    },
    {
      "cell_type": "code",
      "metadata": {
        "scrolled": false,
        "id": "uWK3HzsCyJn8",
        "colab_type": "code",
        "colab": {},
        "outputId": "c7e7ad83-1f5e-454f-d646-03dc752a452e"
      },
      "source": [
        "model = Emojify_V2((maxLen,), word_to_vec_map, word_to_index)\n",
        "model.summary()"
      ],
      "execution_count": null,
      "outputs": [
        {
          "output_type": "stream",
          "text": [
            "_________________________________________________________________\n",
            "Layer (type)                 Output Shape              Param #   \n",
            "=================================================================\n",
            "input_1 (InputLayer)         (None, 10)                0         \n",
            "_________________________________________________________________\n",
            "embedding_2 (Embedding)      (None, 10, 50)            20000050  \n",
            "_________________________________________________________________\n",
            "lstm_1 (LSTM)                (None, 10, 128)           91648     \n",
            "_________________________________________________________________\n",
            "dropout_1 (Dropout)          (None, 10, 128)           0         \n",
            "_________________________________________________________________\n",
            "lstm_2 (LSTM)                (None, 128)               131584    \n",
            "_________________________________________________________________\n",
            "dropout_2 (Dropout)          (None, 128)               0         \n",
            "_________________________________________________________________\n",
            "dense_1 (Dense)              (None, 5)                 645       \n",
            "_________________________________________________________________\n",
            "activation_1 (Activation)    (None, 5)                 0         \n",
            "=================================================================\n",
            "Total params: 20,223,927\n",
            "Trainable params: 223,877\n",
            "Non-trainable params: 20,000,050\n",
            "_________________________________________________________________\n"
          ],
          "name": "stdout"
        }
      ]
    },
    {
      "cell_type": "markdown",
      "metadata": {
        "id": "Vgk67Ro6yJn_",
        "colab_type": "text"
      },
      "source": [
        "As usual, after creating your model in Keras, you need to compile it and define what loss, optimizer and metrics your are want to use. Compile your model using `categorical_crossentropy` loss, `adam` optimizer and `['accuracy']` metrics:"
      ]
    },
    {
      "cell_type": "code",
      "metadata": {
        "id": "MSjnQ5VwyJn_",
        "colab_type": "code",
        "colab": {}
      },
      "source": [
        "model.compile(loss='categorical_crossentropy', optimizer='adam', metrics=['accuracy'])"
      ],
      "execution_count": null,
      "outputs": []
    },
    {
      "cell_type": "markdown",
      "metadata": {
        "id": "D7LEtJGiyJoC",
        "colab_type": "text"
      },
      "source": [
        "training model. \n",
        "Your Emojifier-V2 `model` takes as input an array of shape (`m`, `max_len`) and outputs probability vectors of shape (`m`, `number of classes`). \n",
        "\n",
        "We thus have to convert X_train (array of sentences as strings) to X_train_indices (array of sentences as list of word indices), and Y_train (labels as indices) to Y_train_oh (labels as one-hot vectors)."
      ]
    },
    {
      "cell_type": "code",
      "metadata": {
        "id": "8AsdoFlqyJoC",
        "colab_type": "code",
        "colab": {}
      },
      "source": [
        "X_train_indices = sentences_to_indices(X_train, word_to_index, maxLen)\n",
        "Y_train_oh = convert_to_one_hot(Y_train, C = 5)"
      ],
      "execution_count": null,
      "outputs": []
    },
    {
      "cell_type": "markdown",
      "metadata": {
        "id": "kNCDf4RcyJoF",
        "colab_type": "text"
      },
      "source": [
        "Fit the Keras model on `X_train_indices` and `Y_train_oh`. We will use `epochs = 50` and `batch_size = 32`."
      ]
    },
    {
      "cell_type": "code",
      "metadata": {
        "scrolled": true,
        "id": "rF4JvEmTyJoG",
        "colab_type": "code",
        "colab": {},
        "outputId": "3d21815b-66a3-42d5-af40-1ce2912d9e3b"
      },
      "source": [
        "model.fit(X_train_indices, Y_train_oh, epochs = 50, batch_size = 32, shuffle=True)"
      ],
      "execution_count": null,
      "outputs": [
        {
          "output_type": "stream",
          "text": [
            "Epoch 1/50\n",
            "132/132 [==============================] - 0s - loss: 1.6103 - acc: 0.1818     \n",
            "Epoch 2/50\n",
            "132/132 [==============================] - 0s - loss: 1.5368 - acc: 0.3106     - ETA: 0s - loss: 1.5254 - acc: 0.2\n",
            "Epoch 3/50\n",
            "132/132 [==============================] - 0s - loss: 1.5052 - acc: 0.3030     \n",
            "Epoch 4/50\n",
            "132/132 [==============================] - 0s - loss: 1.4442 - acc: 0.3561     \n",
            "Epoch 5/50\n",
            "132/132 [==============================] - 0s - loss: 1.3570 - acc: 0.4242     \n",
            "Epoch 6/50\n",
            "132/132 [==============================] - 0s - loss: 1.2416 - acc: 0.5379     \n",
            "Epoch 7/50\n",
            "132/132 [==============================] - 0s - loss: 1.1785 - acc: 0.4394     \n",
            "Epoch 8/50\n",
            "132/132 [==============================] - 0s - loss: 1.0551 - acc: 0.5833     \n",
            "Epoch 9/50\n",
            "132/132 [==============================] - 0s - loss: 0.8747 - acc: 0.6970     \n",
            "Epoch 10/50\n",
            "132/132 [==============================] - 0s - loss: 0.8178 - acc: 0.7045     \n",
            "Epoch 11/50\n",
            "132/132 [==============================] - 0s - loss: 0.6967 - acc: 0.7500     - ETA: 0s - loss: 0.7598 - acc: 0.7\n",
            "Epoch 12/50\n",
            "132/132 [==============================] - 0s - loss: 0.5969 - acc: 0.8030     \n",
            "Epoch 13/50\n",
            "132/132 [==============================] - 0s - loss: 0.4884 - acc: 0.8258     \n",
            "Epoch 14/50\n",
            "132/132 [==============================] - 0s - loss: 0.5140 - acc: 0.8106     \n",
            "Epoch 15/50\n",
            "132/132 [==============================] - 0s - loss: 0.4844 - acc: 0.8106     \n",
            "Epoch 16/50\n",
            "132/132 [==============================] - 0s - loss: 0.3541 - acc: 0.8636     \n",
            "Epoch 17/50\n",
            "132/132 [==============================] - 0s - loss: 0.3955 - acc: 0.8636     \n",
            "Epoch 18/50\n",
            "132/132 [==============================] - 0s - loss: 0.6272 - acc: 0.8258     \n",
            "Epoch 19/50\n",
            "132/132 [==============================] - 0s - loss: 0.5191 - acc: 0.8106     \n",
            "Epoch 20/50\n",
            "132/132 [==============================] - 0s - loss: 0.3953 - acc: 0.8485     \n",
            "Epoch 21/50\n",
            "132/132 [==============================] - 0s - loss: 0.4658 - acc: 0.8106     \n",
            "Epoch 22/50\n",
            "132/132 [==============================] - 0s - loss: 0.3981 - acc: 0.8561     \n",
            "Epoch 23/50\n",
            "132/132 [==============================] - 0s - loss: 0.3748 - acc: 0.8409     \n",
            "Epoch 24/50\n",
            "132/132 [==============================] - 0s - loss: 0.3111 - acc: 0.9015     \n",
            "Epoch 25/50\n",
            "132/132 [==============================] - 0s - loss: 0.3458 - acc: 0.8864     \n",
            "Epoch 26/50\n",
            "132/132 [==============================] - 0s - loss: 0.2492 - acc: 0.9318     \n",
            "Epoch 27/50\n",
            "132/132 [==============================] - 0s - loss: 0.3146 - acc: 0.8788     \n",
            "Epoch 28/50\n",
            "132/132 [==============================] - 0s - loss: 0.2480 - acc: 0.9167     \n",
            "Epoch 29/50\n",
            "132/132 [==============================] - 0s - loss: 0.3809 - acc: 0.8636     \n",
            "Epoch 30/50\n",
            "132/132 [==============================] - 0s - loss: 0.2603 - acc: 0.9167     \n",
            "Epoch 31/50\n",
            "132/132 [==============================] - 0s - loss: 0.2906 - acc: 0.8864     \n",
            "Epoch 32/50\n",
            "132/132 [==============================] - 0s - loss: 0.1968 - acc: 0.9318     \n",
            "Epoch 33/50\n",
            "132/132 [==============================] - 0s - loss: 0.2071 - acc: 0.9470     \n",
            "Epoch 34/50\n",
            "132/132 [==============================] - 0s - loss: 0.1556 - acc: 0.9621     \n",
            "Epoch 35/50\n",
            "132/132 [==============================] - ETA: 0s - loss: 0.1607 - acc: 0.960 - 0s - loss: 0.1641 - acc: 0.9621     \n",
            "Epoch 36/50\n",
            "132/132 [==============================] - 0s - loss: 0.1902 - acc: 0.9394     \n",
            "Epoch 37/50\n",
            "132/132 [==============================] - 0s - loss: 0.2285 - acc: 0.9318     \n",
            "Epoch 38/50\n",
            "132/132 [==============================] - 0s - loss: 0.2463 - acc: 0.9318     \n",
            "Epoch 39/50\n",
            "132/132 [==============================] - 0s - loss: 0.1493 - acc: 0.9470     \n",
            "Epoch 40/50\n",
            "132/132 [==============================] - 0s - loss: 0.1823 - acc: 0.9318     \n",
            "Epoch 41/50\n",
            "132/132 [==============================] - 0s - loss: 0.0889 - acc: 0.9697     \n",
            "Epoch 42/50\n",
            "132/132 [==============================] - 0s - loss: 0.1059 - acc: 0.9621     \n",
            "Epoch 43/50\n",
            "132/132 [==============================] - 0s - loss: 0.0904 - acc: 0.9621     \n",
            "Epoch 44/50\n",
            "132/132 [==============================] - 0s - loss: 0.0544 - acc: 0.9924     \n",
            "Epoch 45/50\n",
            "132/132 [==============================] - 0s - loss: 0.0707 - acc: 0.9848     \n",
            "Epoch 46/50\n",
            "132/132 [==============================] - 0s - loss: 0.0673 - acc: 0.9924     \n",
            "Epoch 47/50\n",
            "132/132 [==============================] - 0s - loss: 0.0639 - acc: 0.9924     \n",
            "Epoch 48/50\n",
            "132/132 [==============================] - 0s - loss: 0.0973 - acc: 0.9621     \n",
            "Epoch 49/50\n",
            "132/132 [==============================] - 0s - loss: 0.0529 - acc: 0.9848     \n",
            "Epoch 50/50\n",
            "132/132 [==============================] - 0s - loss: 0.0389 - acc: 0.9924     \n"
          ],
          "name": "stdout"
        },
        {
          "output_type": "execute_result",
          "data": {
            "text/plain": [
              "<keras.callbacks.History at 0x7f17f807aef0>"
            ]
          },
          "metadata": {
            "tags": []
          },
          "execution_count": 28
        }
      ]
    },
    {
      "cell_type": "code",
      "metadata": {
        "scrolled": true,
        "id": "-9Cbgk_hyJoK",
        "colab_type": "code",
        "colab": {},
        "outputId": "17fced72-376e-4ea4-d26f-a41d253bb48b"
      },
      "source": [
        "X_test_indices = sentences_to_indices(X_test, word_to_index, max_len = maxLen)\n",
        "Y_test_oh = convert_to_one_hot(Y_test, C = 5)\n",
        "loss, acc = model.evaluate(X_test_indices, Y_test_oh)\n",
        "print()\n",
        "print(\"Test accuracy = \", acc)"
      ],
      "execution_count": null,
      "outputs": [
        {
          "output_type": "stream",
          "text": [
            "32/56 [================>.............] - ETA: 0s\n",
            "Test accuracy =  0.875000008515\n"
          ],
          "name": "stdout"
        }
      ]
    },
    {
      "cell_type": "markdown",
      "metadata": {
        "id": "Tjf3fvuKyJoO",
        "colab_type": "text"
      },
      "source": [
        "You should get a test accuracy between 80% and 95%. Run the cell below to see the mislabelled examples. "
      ]
    },
    {
      "cell_type": "code",
      "metadata": {
        "id": "c5EBsUjpyJoP",
        "colab_type": "code",
        "colab": {},
        "outputId": "2a7f3a09-0059-4c07-c1d2-b661ce0549b6"
      },
      "source": [
        "# This code allows you to see the mislabelled examples\n",
        "C = 5\n",
        "y_test_oh = np.eye(C)[Y_test.reshape(-1)]\n",
        "X_test_indices = sentences_to_indices(X_test, word_to_index, maxLen)\n",
        "pred = model.predict(X_test_indices)\n",
        "for i in range(len(X_test)):\n",
        "    x = X_test_indices\n",
        "    num = np.argmax(pred[i])\n",
        "    if(num != Y_test[i]):\n",
        "        print('Expected emoji:'+ label_to_emoji(Y_test[i]) + ' prediction: '+ X_test[i] + label_to_emoji(num).strip())"
      ],
      "execution_count": null,
      "outputs": [
        {
          "output_type": "stream",
          "text": [
            "Expected emoji:😄 prediction: she got me a nice present\t❤️\n",
            "Expected emoji:😞 prediction: work is hard\t😄\n",
            "Expected emoji:😞 prediction: This girl is messing with me\t❤️\n",
            "Expected emoji:❤️ prediction: I love taking breaks\t😞\n",
            "Expected emoji:😄 prediction: you brighten my day\t❤️\n",
            "Expected emoji:😄 prediction: will you be my valentine\t❤️\n",
            "Expected emoji:😞 prediction: go away\t⚾\n"
          ],
          "name": "stdout"
        }
      ]
    },
    {
      "cell_type": "markdown",
      "metadata": {
        "id": "v9dsS0UHyJoR",
        "colab_type": "text"
      },
      "source": [
        "Now you can try it on your own example. Write your own sentence below. "
      ]
    },
    {
      "cell_type": "code",
      "metadata": {
        "id": "ZZJYxf0kyJoS",
        "colab_type": "code",
        "colab": {},
        "outputId": "2cbe71ba-87e4-4078-8bee-54bc19d86811"
      },
      "source": [
        "# Change the sentence below to see your prediction. Make sure all the words are in the Glove embeddings.  \n",
        "x_test = np.array(['not feeling happy'])\n",
        "X_test_indices = sentences_to_indices(x_test, word_to_index, maxLen)\n",
        "print(x_test[0] +' '+  label_to_emoji(np.argmax(model.predict(X_test_indices))))"
      ],
      "execution_count": null,
      "outputs": [
        {
          "output_type": "stream",
          "text": [
            "not feeling happy 😞\n"
          ],
          "name": "stdout"
        }
      ]
    },
    {
      "cell_type": "markdown",
      "metadata": {
        "id": "CjVB3HmtyJoV",
        "colab_type": "text"
      },
      "source": [
        "\n",
        "#### Input sentences:\n",
        "```Python\n",
        "\"Congratulations on finishing this assignment and building an Emojifier.\"\n",
        "\"We hope you're happy with what you've accomplished in this notebook!\"\n",
        "```\n",
        "#### Output emojis:\n",
        "# 😀😀😀😀😀😀"
      ]
    }
  ]
}